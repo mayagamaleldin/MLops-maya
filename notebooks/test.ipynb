{
 "cells": [
  {
   "cell_type": "code",
   "execution_count": 6,
   "metadata": {},
   "outputs": [
    {
     "name": "stdout",
     "output_type": "stream",
     "text": [
      "{'message': 'Response Produced Successfully', 'data': [0, 0, 0, 0, 0]}\n"
     ]
    }
   ],
   "source": [
    "import requests\n",
    "\n",
    "url = \"http://0.0.0.0:8000/predict\"\n",
    "\n",
    "data = {\n",
    "    \"columns\":[\n",
    "        'Pclass', 'Sex', 'Age', 'SibSp', 'Parch', 'Fare', 'Embarked'\n",
    "    ],\n",
    "    \"rows\":[\n",
    "        [3,\"male\",22,1,0,7.25,\"S\"],\n",
    "        [3,\"male\",22,1,0,7.25,\"S\"],\n",
    "        [3,\"male\",22,1,0,7.25,\"S\"],\n",
    "        [3,\"male\",22,1,0,7.25,\"S\"],\n",
    "        [3,\"male\",22,1,0,7.25,\"S\"]\n",
    "    ]\n",
    "    }\n",
    "\n",
    "response = requests.post(url=url,json=data)\n",
    "print(response.json())"
   ]
  },
  {
   "cell_type": "code",
   "execution_count": null,
   "metadata": {},
   "outputs": [],
   "source": []
  }
 ],
 "metadata": {
  "language_info": {
   "name": "python"
  }
 },
 "nbformat": 4,
 "nbformat_minor": 2
}
